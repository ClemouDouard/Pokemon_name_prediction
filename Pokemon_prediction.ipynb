{
 "cells": [
  {
   "cell_type": "code",
   "execution_count": 1,
   "id": "b2d94660",
   "metadata": {
    "_cell_guid": "b1076dfc-b9ad-4769-8c92-a6c4dae69d19",
    "_uuid": "8f2839f25d086af736a60e9eeb907d3b93b6e0e5",
    "execution": {
     "iopub.execute_input": "2024-10-14T20:04:50.241130Z",
     "iopub.status.busy": "2024-10-14T20:04:50.240658Z",
     "iopub.status.idle": "2024-10-14T20:04:55.626827Z",
     "shell.execute_reply": "2024-10-14T20:04:55.625131Z"
    },
    "papermill": {
     "duration": 5.395439,
     "end_time": "2024-10-14T20:04:55.630642",
     "exception": false,
     "start_time": "2024-10-14T20:04:50.235203",
     "status": "completed"
    },
    "tags": []
   },
   "outputs": [
    {
     "name": "stdout",
     "output_type": "stream",
     "text": [
      "Cloning into 'Pokemon_name_prediction'...\r\n",
      "remote: Enumerating objects: 3, done.\u001b[K\r\n",
      "remote: Counting objects: 100% (3/3), done.\u001b[K\r\n",
      "remote: Compressing objects: 100% (2/2), done.\u001b[K\r\n",
      "remote: Total 3 (delta 0), reused 0 (delta 0), pack-reused 0 (from 0)\u001b[K\r\n",
      "Unpacking objects: 100% (3/3), 920 bytes | 920.00 KiB/s, done.\r\n"
     ]
    }
   ],
   "source": [
    "# This Python 3 environment comes with many helpful analytics libraries installed\n",
    "# It is defined by the kaggle/python Docker image: https://github.com/kaggle/docker-python\n",
    "# For example, here's several helpful packages to load\n",
    "\n",
    "import numpy as np # linear algebra\n",
    "import pandas as pd # data processing, CSV file I/O (e.g. pd.read_csv)\n",
    "\n",
    "# Input data files are available in the read-only \"../input/\" directory\n",
    "# For example, running this (by clicking run or pressing Shift+Enter) will list all files under the input directory\n",
    "\n",
    "import os\n",
    "\n",
    "# Git\n",
    "!git config --global user.name \"ClemouDouard\"\n",
    "!git config --global user.email \"clementleveque911@gmail.com\"\n",
    "!git clone https://github.com/ClemouDouard/Pokemon_name_prediction"
   ]
  },
  {
   "cell_type": "code",
   "execution_count": 2,
   "id": "9df012f6",
   "metadata": {
    "execution": {
     "iopub.execute_input": "2024-10-14T20:04:55.640569Z",
     "iopub.status.busy": "2024-10-14T20:04:55.639750Z",
     "iopub.status.idle": "2024-10-14T20:04:56.804084Z",
     "shell.execute_reply": "2024-10-14T20:04:56.802573Z"
    },
    "papermill": {
     "duration": 1.172573,
     "end_time": "2024-10-14T20:04:56.807066",
     "exception": false,
     "start_time": "2024-10-14T20:04:55.634493",
     "status": "completed"
    },
    "tags": []
   },
   "outputs": [
    {
     "name": "stdout",
     "output_type": "stream",
     "text": [
      "cp: cannot stat '/kaggle/working/pokemon-prediction.ipynb': No such file or directory\r\n"
     ]
    }
   ],
   "source": [
    "!cp /kaggle/working/pokemon-prediction.ipynb /kaggle/working/Pokemon_name_prediction/"
   ]
  },
  {
   "cell_type": "code",
   "execution_count": 3,
   "id": "a5821e37",
   "metadata": {
    "execution": {
     "iopub.execute_input": "2024-10-14T20:04:56.816539Z",
     "iopub.status.busy": "2024-10-14T20:04:56.816023Z",
     "iopub.status.idle": "2024-10-14T20:04:57.979178Z",
     "shell.execute_reply": "2024-10-14T20:04:57.977526Z"
    },
    "papermill": {
     "duration": 1.171474,
     "end_time": "2024-10-14T20:04:57.982143",
     "exception": false,
     "start_time": "2024-10-14T20:04:56.810669",
     "status": "completed"
    },
    "tags": []
   },
   "outputs": [
    {
     "name": "stdout",
     "output_type": "stream",
     "text": [
      "cp: target '/kaggle/working/output/' is not a directory\r\n"
     ]
    }
   ],
   "source": [
    "# Copier le notebook en cours d'exécution dans l'arborescence des fichiers pour le rendre visible\n",
    "!cp -r /kaggle/working/* /kaggle/working/output/"
   ]
  },
  {
   "cell_type": "markdown",
   "id": "a63c946a",
   "metadata": {
    "papermill": {
     "duration": 0.003186,
     "end_time": "2024-10-14T20:04:57.988917",
     "exception": false,
     "start_time": "2024-10-14T20:04:57.985731",
     "status": "completed"
    },
    "tags": []
   },
   "source": [
    "# Data set"
   ]
  },
  {
   "cell_type": "code",
   "execution_count": 4,
   "id": "e6dcf8dc",
   "metadata": {
    "execution": {
     "iopub.execute_input": "2024-10-14T20:04:57.998193Z",
     "iopub.status.busy": "2024-10-14T20:04:57.997696Z",
     "iopub.status.idle": "2024-10-14T20:04:58.055431Z",
     "shell.execute_reply": "2024-10-14T20:04:58.054268Z"
    },
    "papermill": {
     "duration": 0.06596,
     "end_time": "2024-10-14T20:04:58.058334",
     "exception": false,
     "start_time": "2024-10-14T20:04:57.992374",
     "status": "completed"
    },
    "tags": []
   },
   "outputs": [
    {
     "data": {
      "text/html": [
       "<div>\n",
       "<style scoped>\n",
       "    .dataframe tbody tr th:only-of-type {\n",
       "        vertical-align: middle;\n",
       "    }\n",
       "\n",
       "    .dataframe tbody tr th {\n",
       "        vertical-align: top;\n",
       "    }\n",
       "\n",
       "    .dataframe thead th {\n",
       "        text-align: right;\n",
       "    }\n",
       "</style>\n",
       "<table border=\"1\" class=\"dataframe\">\n",
       "  <thead>\n",
       "    <tr style=\"text-align: right;\">\n",
       "      <th></th>\n",
       "      <th>Image</th>\n",
       "      <th>Index</th>\n",
       "      <th>Name</th>\n",
       "      <th>Type 1</th>\n",
       "      <th>Type 2</th>\n",
       "      <th>Total</th>\n",
       "      <th>HP</th>\n",
       "      <th>Attack</th>\n",
       "      <th>Defense</th>\n",
       "      <th>SP. Atk.</th>\n",
       "      <th>SP. Def</th>\n",
       "      <th>Speed</th>\n",
       "    </tr>\n",
       "  </thead>\n",
       "  <tbody>\n",
       "    <tr>\n",
       "      <th>0</th>\n",
       "      <td>images/1.png</td>\n",
       "      <td>1</td>\n",
       "      <td>Bulbasaur</td>\n",
       "      <td>Grass</td>\n",
       "      <td>Poison</td>\n",
       "      <td>318</td>\n",
       "      <td>45</td>\n",
       "      <td>49</td>\n",
       "      <td>49</td>\n",
       "      <td>65</td>\n",
       "      <td>65</td>\n",
       "      <td>45</td>\n",
       "    </tr>\n",
       "    <tr>\n",
       "      <th>1</th>\n",
       "      <td>images/2.png</td>\n",
       "      <td>2</td>\n",
       "      <td>Ivysaur</td>\n",
       "      <td>Grass</td>\n",
       "      <td>Poison</td>\n",
       "      <td>405</td>\n",
       "      <td>60</td>\n",
       "      <td>62</td>\n",
       "      <td>63</td>\n",
       "      <td>80</td>\n",
       "      <td>80</td>\n",
       "      <td>60</td>\n",
       "    </tr>\n",
       "    <tr>\n",
       "      <th>2</th>\n",
       "      <td>images/3.png</td>\n",
       "      <td>3</td>\n",
       "      <td>Venusaur</td>\n",
       "      <td>Grass</td>\n",
       "      <td>Poison</td>\n",
       "      <td>525</td>\n",
       "      <td>80</td>\n",
       "      <td>82</td>\n",
       "      <td>83</td>\n",
       "      <td>100</td>\n",
       "      <td>100</td>\n",
       "      <td>80</td>\n",
       "    </tr>\n",
       "    <tr>\n",
       "      <th>3</th>\n",
       "      <td>images/4.png</td>\n",
       "      <td>3</td>\n",
       "      <td>Venusaur Mega Venusaur</td>\n",
       "      <td>Grass</td>\n",
       "      <td>Poison</td>\n",
       "      <td>625</td>\n",
       "      <td>80</td>\n",
       "      <td>100</td>\n",
       "      <td>123</td>\n",
       "      <td>122</td>\n",
       "      <td>120</td>\n",
       "      <td>80</td>\n",
       "    </tr>\n",
       "    <tr>\n",
       "      <th>4</th>\n",
       "      <td>images/5.png</td>\n",
       "      <td>4</td>\n",
       "      <td>Charmander</td>\n",
       "      <td>Fire</td>\n",
       "      <td>NaN</td>\n",
       "      <td>309</td>\n",
       "      <td>39</td>\n",
       "      <td>52</td>\n",
       "      <td>43</td>\n",
       "      <td>60</td>\n",
       "      <td>50</td>\n",
       "      <td>65</td>\n",
       "    </tr>\n",
       "  </tbody>\n",
       "</table>\n",
       "</div>"
      ],
      "text/plain": [
       "          Image  Index                    Name Type 1  Type 2  Total  HP  \\\n",
       "0  images/1.png      1               Bulbasaur  Grass  Poison    318  45   \n",
       "1  images/2.png      2                 Ivysaur  Grass  Poison    405  60   \n",
       "2  images/3.png      3                Venusaur  Grass  Poison    525  80   \n",
       "3  images/4.png      3  Venusaur Mega Venusaur  Grass  Poison    625  80   \n",
       "4  images/5.png      4              Charmander   Fire     NaN    309  39   \n",
       "\n",
       "   Attack  Defense  SP. Atk.  SP. Def  Speed  \n",
       "0      49       49        65       65     45  \n",
       "1      62       63        80       80     60  \n",
       "2      82       83       100      100     80  \n",
       "3     100      123       122      120     80  \n",
       "4      52       43        60       50     65  "
      ]
     },
     "execution_count": 4,
     "metadata": {},
     "output_type": "execute_result"
    }
   ],
   "source": [
    "df = pd.read_csv('/kaggle/input/pokemon-with-stats-and-image/pokedex.csv')\n",
    "\n",
    "df.head()"
   ]
  },
  {
   "cell_type": "markdown",
   "id": "1b10219f",
   "metadata": {
    "papermill": {
     "duration": 0.003464,
     "end_time": "2024-10-14T20:04:58.065746",
     "exception": false,
     "start_time": "2024-10-14T20:04:58.062282",
     "status": "completed"
    },
    "tags": []
   },
   "source": [
    "Le but ici est de prédire le nom du pokemon en fonction de toutes les données sauf l'image."
   ]
  }
 ],
 "metadata": {
  "kaggle": {
   "accelerator": "none",
   "dataSources": [
    {
     "datasetId": 5759257,
     "sourceId": 9470603,
     "sourceType": "datasetVersion"
    }
   ],
   "dockerImageVersionId": 30786,
   "isGpuEnabled": false,
   "isInternetEnabled": true,
   "language": "python",
   "sourceType": "notebook"
  },
  "kernelspec": {
   "display_name": "Python 3",
   "language": "python",
   "name": "python3"
  },
  "language_info": {
   "codemirror_mode": {
    "name": "ipython",
    "version": 3
   },
   "file_extension": ".py",
   "mimetype": "text/x-python",
   "name": "python",
   "nbconvert_exporter": "python",
   "pygments_lexer": "ipython3",
   "version": "3.10.14"
  },
  "papermill": {
   "default_parameters": {},
   "duration": 11.820692,
   "end_time": "2024-10-14T20:04:58.592238",
   "environment_variables": {},
   "exception": null,
   "input_path": "__notebook__.ipynb",
   "output_path": "__notebook__.ipynb",
   "parameters": {},
   "start_time": "2024-10-14T20:04:46.771546",
   "version": "2.6.0"
  }
 },
 "nbformat": 4,
 "nbformat_minor": 5
}
